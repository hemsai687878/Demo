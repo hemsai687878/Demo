{
 "cells": [
  {
   "cell_type": "code",
   "execution_count": 6,
   "id": "5b5fce48",
   "metadata": {},
   "outputs": [],
   "source": [
    "class Myclass:\n",
    "    y=10\n",
    "    x= 5\n",
    "    x"
   ]
  },
  {
   "cell_type": "code",
   "execution_count": 7,
   "id": "340a8dc3",
   "metadata": {},
   "outputs": [],
   "source": [
    "# create object\n",
    "p1=Myclass()"
   ]
  },
  {
   "cell_type": "code",
   "execution_count": 8,
   "id": "18912920",
   "metadata": {},
   "outputs": [
    {
     "name": "stdout",
     "output_type": "stream",
     "text": [
      "5\n",
      "10\n"
     ]
    }
   ],
   "source": [
    "print(p1.x)\n",
    "print(p1.y)"
   ]
  },
  {
   "cell_type": "code",
   "execution_count": 9,
   "id": "ae040c94",
   "metadata": {},
   "outputs": [],
   "source": [
    "# Inheritence\n",
    "# Polymorphism\n",
    "# Abstraction\n",
    "# Encapsulation"
   ]
  },
  {
   "cell_type": "markdown",
   "id": "63379f2c",
   "metadata": {},
   "source": [
    "### Inheritence\n",
    "\n",
    "#### single inheritence\n",
    "#### multiple inheritence\n",
    "#### multilevel inheritence\n",
    "#### hybrid inheritence "
   ]
  },
  {
   "cell_type": "code",
   "execution_count": 11,
   "id": "cd9e5a02",
   "metadata": {},
   "outputs": [
    {
     "name": "stdout",
     "output_type": "stream",
     "text": [
      "Hemant\n",
      "Payal\n",
      "Rahul\n",
      "22\n"
     ]
    }
   ],
   "source": [
    "class Parent:\n",
    "    f_name=\"Hemant\"\n",
    "    m_name=\"Payal\"\n",
    "\n",
    "class Child(Parent):\n",
    "    c_name=\"Rahul\"\n",
    "    age=22\n",
    "\n",
    "c_obj = Child()\n",
    "print(c_obj.f_name)\n",
    "print(c_obj.m_name)\n",
    "print(c_obj.c_name)\n",
    "print(c_obj.age)"
   ]
  },
  {
   "cell_type": "code",
   "execution_count": null,
   "id": "edbd559c",
   "metadata": {},
   "outputs": [
    {
     "name": "stdout",
     "output_type": "stream",
     "text": [
      "Narendra\n",
      "Premlata\n",
      "Hemant\n",
      "Payal\n",
      "Rahul\n",
      "22\n"
     ]
    }
   ],
   "source": [
    "class G_Parent:\n",
    "    gf_name=\"Narendra\"\n",
    "    gm_name=\"Premlata\"\n",
    "class Parent(G_Parent):\n",
    "    f_name=\"Hemant\"\n",
    "    m_name=\"Payal\"\n",
    "\n",
    "class Child(Parent):\n",
    "    c_name=\"Rahul\"\n",
    "    age=22\n",
    "c_obj = Child()\n",
    "print(c_obj.gf_name)\n",
    "print(c_obj.gm_name)\n",
    "print(c_obj.f_name)\n",
    "print(c_obj.m_name)\n",
    "print(c_obj.c_name)\n",
    "print(c_obj.age)"
   ]
  },
  {
   "cell_type": "code",
   "execution_count": 24,
   "id": "4fce4508",
   "metadata": {},
   "outputs": [],
   "source": [
    "class G_Parent:\n",
    "    gf_name=\"Narendra\"\n",
    "    gm_name=\"Premlata\"\n",
    "class Parent1():\n",
    "    f_name=\"Hemant\"\n",
    "    m_name=\"Payal\"\n",
    "class Parent2():\n",
    "    f_name=\"Keshav\"\n",
    "    m_name=\"Muskan\"\n",
    "class Child1(Parent1,G_Parent):\n",
    "    c_name1=\"Khushi\"\n",
    "    age1=22\n",
    "c_obj1 = Child1()\n",
    "class Child2(Parent2,G_Parent):\n",
    "    c_name2=\"Rahul\"\n",
    "    age2=20\n",
    "c_obj2 = Child2()\n"
   ]
  },
  {
   "cell_type": "code",
   "execution_count": 25,
   "id": "2d89984e",
   "metadata": {},
   "outputs": [
    {
     "name": "stdout",
     "output_type": "stream",
     "text": [
      "Narendra\n",
      "Premlata\n",
      "Hemant\n",
      "Payal\n",
      "Khushi\n",
      "22\n"
     ]
    }
   ],
   "source": [
    "print(c_obj1.gf_name)\n",
    "print(c_obj1.gm_name)\n",
    "print(c_obj1.f_name)\n",
    "print(c_obj1.m_name)\n",
    "print(c_obj1.c_name1)\n",
    "print(c_obj1.age1)"
   ]
  },
  {
   "cell_type": "code",
   "execution_count": 26,
   "id": "6c1d195d",
   "metadata": {},
   "outputs": [
    {
     "name": "stdout",
     "output_type": "stream",
     "text": [
      "Narendra\n",
      "Premlata\n",
      "Keshav\n",
      "Muskan\n",
      "Rahul\n",
      "20\n"
     ]
    }
   ],
   "source": [
    "print(c_obj2.gf_name)\n",
    "print(c_obj2.gm_name)\n",
    "print(c_obj2.f_name)\n",
    "print(c_obj2.m_name)\n",
    "print(c_obj2.c_name2)\n",
    "print(c_obj2.age2)"
   ]
  },
  {
   "cell_type": "code",
   "execution_count": 28,
   "id": "0e7022e6",
   "metadata": {},
   "outputs": [
    {
     "name": "stdout",
     "output_type": "stream",
     "text": [
      "Addtion: 60\n"
     ]
    }
   ],
   "source": [
    "class Calc:\n",
    "    def add(self,a,b):\n",
    "        return a+b\n",
    "    def mul(self,a,b):\n",
    "        return a*b\n",
    "obj=Calc()\n",
    "print(\"Addtion:\",obj.add(52,8))"
   ]
  },
  {
   "cell_type": "code",
   "execution_count": 33,
   "id": "e8e986b1",
   "metadata": {},
   "outputs": [],
   "source": [
    "class Student:\n",
    "    a= 10 ### class variable\n",
    "    def set_date(self,name,age):\n",
    "        self.name=name ### instance variable\n",
    "        self.age = age ### instance variable\n",
    "\n",
    "    def display(self):\n",
    "        print(f\"Student name:{self.name},and Student age:{self.age}\")\n"
   ]
  },
  {
   "cell_type": "code",
   "execution_count": 34,
   "id": "02dbbb92",
   "metadata": {},
   "outputs": [],
   "source": [
    "obj = Student()\n",
    "obj.set_date(\"Hemant\",21)"
   ]
  },
  {
   "cell_type": "code",
   "execution_count": 51,
   "id": "4c80c147",
   "metadata": {},
   "outputs": [
    {
     "name": "stdout",
     "output_type": "stream",
     "text": [
      "78.5\n"
     ]
    }
   ],
   "source": [
    "class Circle:\n",
    "    pi = 3.14\n",
    "    def radius(self):\n",
    "        self.r=int(input(\"Enter the Radius\"))\n",
    "    def area(self):\n",
    "        x = self.pi *self.r*self.r\n",
    "        return x\n",
    "\n",
    "obj = Circle()\n",
    "obj.radius()\n",
    "print(obj.area())\n"
   ]
  },
  {
   "cell_type": "code",
   "execution_count": 53,
   "id": "ced58f9b",
   "metadata": {},
   "outputs": [
    {
     "name": "stdout",
     "output_type": "stream",
     "text": [
      "Hello how are you\n"
     ]
    }
   ],
   "source": [
    "class Demo:\n",
    "    def __init__(self):\n",
    "        print(\"Hello how are you\")\n",
    "obj = Demo()"
   ]
  },
  {
   "cell_type": "code",
   "execution_count": 57,
   "id": "bc41c7c5",
   "metadata": {},
   "outputs": [
    {
     "name": "stdout",
     "output_type": "stream",
     "text": [
      "Company Maruti\n",
      "Car name Dizire\n",
      "Car buy year 2000\n",
      "Car cost 100000\n"
     ]
    }
   ],
   "source": [
    "class Car:\n",
    "    def __init__(self,Company,C_name,C_buy,C_cost):\n",
    "        self.Company=Company\n",
    "        self.C_name = C_name\n",
    "        self.C_buy = C_buy\n",
    "        self.C_cost = C_cost\n",
    "        print(\"Company\",Company)\n",
    "        print(\"Car name\",C_name)\n",
    "        print(\"Car buy year\",C_buy)\n",
    "        print(\"Car cost\",C_cost)\n",
    "obj = Car(\"Maruti\",\"Dizire\",2000,100000)\n"
   ]
  },
  {
   "cell_type": "markdown",
   "id": "232adc1c",
   "metadata": {},
   "source": [
    "### Encapsulation in Python"
   ]
  },
  {
   "cell_type": "code",
   "execution_count": 61,
   "id": "a323f25e",
   "metadata": {},
   "outputs": [
    {
     "name": "stdout",
     "output_type": "stream",
     "text": [
      "name:Hemant and salary:30000\n"
     ]
    }
   ],
   "source": [
    "class Employee:\n",
    "    def __init__(self,name,salary):\n",
    "        self.name=name          ### public variable\n",
    "        self.__salary = salary  ### private variable\n",
    "    def show_info(self):\n",
    "        print(f\"name:{self.name} and salary:{self.__salary}\")\n",
    "    def get_salary(self,a):\n",
    "\n",
    "        pass\n",
    "    def set_salary(self):\n",
    "        pass\n",
    "\n",
    "obj=Employee(\"Hemant\",30000)\n",
    "obj.show_info()        "
   ]
  },
  {
   "cell_type": "code",
   "execution_count": null,
   "id": "8af0bbf6",
   "metadata": {},
   "outputs": [],
   "source": []
  }
 ],
 "metadata": {
  "kernelspec": {
   "display_name": "base",
   "language": "python",
   "name": "python3"
  },
  "language_info": {
   "codemirror_mode": {
    "name": "ipython",
    "version": 3
   },
   "file_extension": ".py",
   "mimetype": "text/x-python",
   "name": "python",
   "nbconvert_exporter": "python",
   "pygments_lexer": "ipython3",
   "version": "3.12.4"
  }
 },
 "nbformat": 4,
 "nbformat_minor": 5
}
