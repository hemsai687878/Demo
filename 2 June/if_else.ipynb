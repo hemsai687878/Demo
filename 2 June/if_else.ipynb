{
 "cells": [
  {
   "cell_type": "code",
   "execution_count": 4,
   "id": "a2de72ab",
   "metadata": {},
   "outputs": [
    {
     "name": "stdout",
     "output_type": "stream",
     "text": [
      "('name', 'Hemant')\n",
      "('age', 22)\n",
      "('gender', 'male')\n"
     ]
    }
   ],
   "source": [
    "dct ={\n",
    "    \"name\" :\"Hemant\",\n",
    "    \"age\" : 22,\n",
    "    \"gender\" : \"male\"\n",
    "}\n",
    "\n",
    "for x in dct.items():\n",
    "    print(x)"
   ]
  },
  {
   "cell_type": "code",
   "execution_count": 7,
   "id": "09900ad6",
   "metadata": {},
   "outputs": [
    {
     "name": "stdout",
     "output_type": "stream",
     "text": [
      "0.2222222222222222\n"
     ]
    }
   ],
   "source": [
    "num1 = 2\n",
    "num2 = 9\n",
    "if num2 != 0:\n",
    "    division = num1 / num2\n",
    "    print(division)\n",
    "else:\n",
    "    division = \"cannot divide by zero\""
   ]
  },
  {
   "cell_type": "code",
   "execution_count": 19,
   "id": "08c2b35e",
   "metadata": {},
   "outputs": [
    {
     "name": "stdout",
     "output_type": "stream",
     "text": [
      "Odd number3\n",
      "Odd number5\n",
      "Odd number7\n",
      "Odd number9\n",
      "Even number2\n",
      "Even number4\n",
      "Even number6\n",
      "Even number8\n"
     ]
    }
   ],
   "source": [
    "for x in range(3,10,2):\n",
    "    print(f\"Odd number{x}\")\n",
    "\n",
    "for x in range(2,10,2):\n",
    "    print(f\"Even number{x}\")"
   ]
  },
  {
   "cell_type": "code",
   "execution_count": 23,
   "id": "17b87c2c",
   "metadata": {},
   "outputs": [
    {
     "name": "stdout",
     "output_type": "stream",
     "text": [
      "pass 78\n",
      "pass 72\n",
      "pass 94\n",
      "fail 22\n",
      "pass 51\n"
     ]
    }
   ],
   "source": [
    "marks_list = [78,72,94,22,51]\n",
    "for x in marks_list:\n",
    "    if x >= 50:\n",
    "        print(\"pass\",x)\n",
    "    else:\n",
    "        print(\"fail\",x)"
   ]
  },
  {
   "cell_type": "code",
   "execution_count": 25,
   "id": "80713a3f",
   "metadata": {},
   "outputs": [
    {
     "name": "stdout",
     "output_type": "stream",
     "text": [
      "consonant\n",
      "vovel\n",
      "consonant\n",
      "consonant\n",
      "vovel\n"
     ]
    }
   ],
   "source": [
    "text = \"hello\"\n",
    "for x in text:\n",
    "    if x in {\"a\",\"e\",\"i\",\"o\",\"u\"}:\n",
    "        print(\"vovel\")\n",
    "    else:\n",
    "        print(\"consonant\")\n"
   ]
  },
  {
   "cell_type": "code",
   "execution_count": 26,
   "id": "f6410f0d",
   "metadata": {},
   "outputs": [],
   "source": [
    "#### While"
   ]
  },
  {
   "cell_type": "code",
   "execution_count": 38,
   "id": "f2d298b5",
   "metadata": {},
   "outputs": [
    {
     "name": "stdout",
     "output_type": "stream",
     "text": [
      "1\n",
      "2\n",
      "4\n",
      "5\n"
     ]
    }
   ],
   "source": [
    "a = 1\n",
    "while a <= 5:\n",
    "    if a == 3:\n",
    "        a = a + 1  # Increment before continue to avoid infinite loop\n",
    "        continue\n",
    "    print(a)\n",
    "    a = a + 1\n"
   ]
  },
  {
   "cell_type": "markdown",
   "id": "faa8cbe5",
   "metadata": {},
   "source": [
    "### Function"
   ]
  },
  {
   "cell_type": "code",
   "execution_count": 42,
   "id": "77c5a5ae",
   "metadata": {},
   "outputs": [],
   "source": [
    "def add(a,b):\n",
    "    result =a+b\n",
    "    print(\"result\",result)"
   ]
  },
  {
   "cell_type": "code",
   "execution_count": 43,
   "id": "8313d645",
   "metadata": {},
   "outputs": [
    {
     "name": "stdout",
     "output_type": "stream",
     "text": [
      "result 11\n"
     ]
    }
   ],
   "source": [
    "add(5,6)"
   ]
  },
  {
   "cell_type": "code",
   "execution_count": null,
   "id": "27629fce",
   "metadata": {},
   "outputs": [],
   "source": [
    "def check(x):\n",
    "    for x in range(1,10):\n",
    "        if x in range(1,10,2):\n",
    "            print(f\"Odd number{x}\")\n",
    "\n",
    "        else :\n",
    "            print(f\"Even number{x}\")"
   ]
  },
  {
   "cell_type": "code",
   "execution_count": 55,
   "id": "5188384e",
   "metadata": {},
   "outputs": [
    {
     "name": "stdout",
     "output_type": "stream",
     "text": [
      "Odd number1\n",
      "Even number2\n",
      "Odd number3\n",
      "Even number4\n",
      "Odd number5\n",
      "Even number6\n",
      "Odd number7\n",
      "Even number8\n",
      "Odd number9\n"
     ]
    }
   ],
   "source": [
    "check()"
   ]
  },
  {
   "cell_type": "code",
   "execution_count": 56,
   "id": "33dc47be",
   "metadata": {},
   "outputs": [],
   "source": [
    "# lambda function"
   ]
  },
  {
   "cell_type": "code",
   "execution_count": 57,
   "id": "536ca254",
   "metadata": {},
   "outputs": [],
   "source": [
    "add = lambda a,b:a+b"
   ]
  },
  {
   "cell_type": "code",
   "execution_count": 58,
   "id": "e3f0fec5",
   "metadata": {},
   "outputs": [
    {
     "name": "stdout",
     "output_type": "stream",
     "text": [
      "30\n"
     ]
    }
   ],
   "source": [
    "print(add(10,20))"
   ]
  },
  {
   "cell_type": "code",
   "execution_count": 59,
   "id": "4a9d88f0",
   "metadata": {},
   "outputs": [
    {
     "name": "stdout",
     "output_type": "stream",
     "text": [
      "400\n"
     ]
    }
   ],
   "source": [
    "square = lambda x: x*x\n",
    "print(square(20))"
   ]
  },
  {
   "cell_type": "code",
   "execution_count": 65,
   "id": "1d69ff38",
   "metadata": {},
   "outputs": [
    {
     "name": "stdout",
     "output_type": "stream",
     "text": [
      "even\n"
     ]
    }
   ],
   "source": [
    "is_even = lambda x : \"even\" if x%2 == 0 else \"odd\"\n",
    "print(is_even(4))"
   ]
  },
  {
   "cell_type": "code",
   "execution_count": null,
   "id": "02f4cece",
   "metadata": {},
   "outputs": [],
   "source": []
  }
 ],
 "metadata": {
  "kernelspec": {
   "display_name": "base",
   "language": "python",
   "name": "python3"
  },
  "language_info": {
   "codemirror_mode": {
    "name": "ipython",
    "version": 3
   },
   "file_extension": ".py",
   "mimetype": "text/x-python",
   "name": "python",
   "nbconvert_exporter": "python",
   "pygments_lexer": "ipython3",
   "version": "3.12.4"
  }
 },
 "nbformat": 4,
 "nbformat_minor": 5
}
